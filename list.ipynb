{
  "nbformat": 4,
  "nbformat_minor": 0,
  "metadata": {
    "colab": {
      "name": "list.ipynb",
      "private_outputs": true,
      "provenance": [],
      "authorship_tag": "ABX9TyPKM4kY8uyXcXesBKNebOqQ",
      "include_colab_link": true
    },
    "kernelspec": {
      "name": "python3",
      "display_name": "Python 3"
    },
    "language_info": {
      "name": "python"
    }
  },
  "cells": [
    {
      "cell_type": "markdown",
      "metadata": {
        "id": "view-in-github",
        "colab_type": "text"
      },
      "source": [
        "<a href=\"https://colab.research.google.com/github/soumo99/Google_Colab_codes/blob/main/list.ipynb\" target=\"_parent\"><img src=\"https://colab.research.google.com/assets/colab-badge.svg\" alt=\"Open In Colab\"/></a>"
      ]
    },
    {
      "cell_type": "markdown",
      "source": [
        "Python: Generates a list of numbers in the arithmetic progression within a range\n"
      ],
      "metadata": {
        "id": "Li7GqpNPj9i7"
      }
    },
    {
      "cell_type": "code",
      "source": [
        "def ap(num,x):\n",
        "  return(list(range(num,x+1,num)))\n",
        "print(ap(1,15))\n",
        "print(ap(3,18))\n",
        "print(ap(2,100))\n",
        "print(ap(4,80))"
      ],
      "metadata": {
        "id": "-_fkZCqpkBbG"
      },
      "execution_count": null,
      "outputs": []
    },
    {
      "cell_type": "markdown",
      "source": [
        "Python: Check if there are duplicate values in a given flat list\n"
      ],
      "metadata": {
        "id": "FEasgB6ekiu4"
      }
    },
    {
      "cell_type": "code",
      "source": [
        "def repeat(lst):\n",
        "  return len(lst) != len(set(lst))\n",
        "\n",
        "num=[1,2,3,4,4,5,6]\n",
        "print(\"The original list is :\")\n",
        "print(num)\n",
        "print(\"Check if there is any duplicate values present \")\n",
        "print(repeat(num))\n",
        "\n",
        "num=[1,2,3,4,5,6]\n",
        "print(\"The original list is :\")\n",
        "print(num)\n",
        "print(\"Check if there is any duplicate values present \")\n",
        "print(repeat(num))"
      ],
      "metadata": {
        "id": "8T3f69vom6As"
      },
      "execution_count": null,
      "outputs": []
    },
    {
      "cell_type": "markdown",
      "source": [
        "Python: Check if the elements of the first list are contained in the second one regardless of order\n"
      ],
      "metadata": {
        "id": "c-b1reYoozI8"
      }
    },
    {
      "cell_type": "code",
      "source": [
        "def contain(lst_1,lst_2):\n",
        "  for num in set(lst_1):\n",
        "    if lst_1.count(num) > lst_2.count(num):\n",
        "      return False\n",
        "    return True\n",
        "print(contain([1,2],[1,2,3,4,5]))\n",
        "print(contain([1],[1,2,3,4,5]))\n",
        "print(contain([1,2,3],[1,2,3,4,5]))\n",
        "print(contain([1,1],[1,2,3,4,5]))"
      ],
      "metadata": {
        "id": "4WDLpYLdoz5Z"
      },
      "execution_count": null,
      "outputs": []
    },
    {
      "cell_type": "markdown",
      "source": [
        "Python: Get every nth element in a given list\n"
      ],
      "metadata": {
        "id": "LP-I3Yg2q3u4"
      }
    },
    {
      "cell_type": "code",
      "source": [
        "def path(num,skip):\n",
        "  return(num[skip-1::skip])\n",
        "print(path([1,2,3,4,5,6,7,8,9],1))\n",
        "print(path([1,2,3,4,5,6,7,8,9],2))\n",
        "print(path([1,2,3,4,5,6,7,8,9],4))\n",
        "print(path([1,2,3,4,5,6,7,8,9],6))"
      ],
      "metadata": {
        "id": "QEL6iq4Yq4MU"
      },
      "execution_count": null,
      "outputs": []
    },
    {
      "cell_type": "markdown",
      "source": [
        "Program to remove one element from the right "
      ],
      "metadata": {
        "id": "iiVdx6AfsUMb"
      }
    },
    {
      "cell_type": "code",
      "source": [
        "def remove_el(lst):\n",
        "  return(lst.pop(-1))\n",
        "lst = [1,2,3,4,5,6,7,8]\n",
        "print(\"The original list is : \",lst)\n",
        "print(\"Item removed is : \",remove_el(lst))\n",
        "print(\"List after removing one element from the right\",lst)"
      ],
      "metadata": {
        "id": "ATmiFLMosU9B"
      },
      "execution_count": null,
      "outputs": []
    },
    {
      "cell_type": "markdown",
      "source": [
        "Python: Get a list with n elements removed from the left, right"
      ],
      "metadata": {
        "id": "UhWSecdSttZ8"
      }
    },
    {
      "cell_type": "code",
      "source": [
        "list_n = [1,2,3,4,5,6]\n",
        "remove_l = list_n.pop(0)\n",
        "print(\"Removed left item from the list : \" ,remove_l)\n",
        "print(\"The Remaining list items : \",list_n)\n",
        "\n",
        "remove_r = list_n.pop(-1)\n",
        "print(\"Removed right item from the list : \" ,remove_r)\n",
        "print(\"The Remaining list items : \",list_n)\n",
        "  \n"
      ],
      "metadata": {
        "id": "uZyPgVvPtuFZ"
      },
      "execution_count": null,
      "outputs": []
    }
  ]
}