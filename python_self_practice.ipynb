{
  "nbformat": 4,
  "nbformat_minor": 0,
  "metadata": {
    "colab": {
      "name": "python_self_practice.ipynb",
      "private_outputs": true,
      "provenance": [],
      "authorship_tag": "ABX9TyNB2zfoT8Ow2s5Vqbs7X9n+",
      "include_colab_link": true
    },
    "kernelspec": {
      "name": "python3",
      "display_name": "Python 3"
    },
    "language_info": {
      "name": "python"
    }
  },
  "cells": [
    {
      "cell_type": "markdown",
      "metadata": {
        "id": "view-in-github",
        "colab_type": "text"
      },
      "source": [
        "<a href=\"https://colab.research.google.com/github/soumo99/Google_Colab_codes/blob/main/python_self_practice.ipynb\" target=\"_parent\"><img src=\"https://colab.research.google.com/assets/colab-badge.svg\" alt=\"Open In Colab\"/></a>"
      ]
    },
    {
      "cell_type": "markdown",
      "source": [
        "Write a Python function to check whether a distinct pair of numbers whose product is odd present in a sequence of integer values.\n",
        "\n"
      ],
      "metadata": {
        "id": "GNJpt5IvKOOU"
      }
    },
    {
      "cell_type": "code",
      "source": [
        "def distinct(num):\n",
        "  for x in range(len(num)):\n",
        "    for y in range(len(num)):\n",
        "      if x != y:\n",
        "        pro=num[x] * num[y]\n",
        "        if pro & 1:\n",
        "          return True\n",
        "  return False\n",
        "test_1=[1,2,3,4]\n",
        "test_2=[1,4,6,8]\n",
        "print(test_1,distinct(test_1))\n",
        "print(test_2,distinct(test_2))"
      ],
      "metadata": {
        "id": "X3uKmmGPKTOX"
      },
      "execution_count": null,
      "outputs": []
    },
    {
      "cell_type": "markdown",
      "source": [
        "Write a Python function that takes a positive integer and returns the sum of the cube of all the positive integers smaller than the specified number.\n",
        "\n"
      ],
      "metadata": {
        "id": "izBfTQclPT1H"
      }
    },
    {
      "cell_type": "code",
      "source": [
        "def less(num):\n",
        "  num -= 1\n",
        "  sum=0\n",
        "  while(num>0):\n",
        "    sum += num*num*num\n",
        "    num -= 1\n",
        "  return sum\n",
        "print(\"The value is : \",less(3))"
      ],
      "metadata": {
        "id": "2iiTOmYaPUAv"
      },
      "execution_count": null,
      "outputs": []
    },
    {
      "cell_type": "markdown",
      "source": [
        ""
      ],
      "metadata": {
        "id": "0YO7Ayw7VlU4"
      }
    },
    {
      "cell_type": "code",
      "source": [
        "def max_min(num):\n",
        "  max=0\n",
        "  min=0\n",
        "  for x in range(len(num)):\n",
        "    if x > max:\n",
        "      max=num\n",
        "    return max\n",
        "      if x < min:\n",
        "        min=num\n",
        "      return min\n",
        "print(\"the largest number is : \",max)\n",
        "print(\"the smallest number is : \",min)\n"
      ],
      "metadata": {
        "id": "eaSn5KudVlpA"
      },
      "execution_count": null,
      "outputs": []
    }
  ]
}