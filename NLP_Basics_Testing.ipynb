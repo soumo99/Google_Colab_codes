{
  "nbformat": 4,
  "nbformat_minor": 0,
  "metadata": {
    "colab": {
      "provenance": [],
      "authorship_tag": "ABX9TyO+3OI8sUucYTyCTe82xuE3",
      "include_colab_link": true
    },
    "kernelspec": {
      "name": "python3",
      "display_name": "Python 3"
    },
    "language_info": {
      "name": "python"
    }
  },
  "cells": [
    {
      "cell_type": "markdown",
      "metadata": {
        "id": "view-in-github",
        "colab_type": "text"
      },
      "source": [
        "<a href=\"https://colab.research.google.com/github/soumo99/Google_Colab_codes/blob/main/NLP_Basics_Testing.ipynb\" target=\"_parent\"><img src=\"https://colab.research.google.com/assets/colab-badge.svg\" alt=\"Open In Colab\"/></a>"
      ]
    },
    {
      "cell_type": "code",
      "execution_count": 1,
      "metadata": {
        "colab": {
          "base_uri": "https://localhost:8080/"
        },
        "id": "tufzDyR_wdar",
        "outputId": "cd210294-9982-440f-b7f6-f6ccd4847fb9"
      },
      "outputs": [
        {
          "output_type": "stream",
          "name": "stdout",
          "text": [
            "Requirement already satisfied: nltk in /usr/local/lib/python3.10/dist-packages (3.8.1)\n",
            "Requirement already satisfied: click in /usr/local/lib/python3.10/dist-packages (from nltk) (8.1.7)\n",
            "Requirement already satisfied: joblib in /usr/local/lib/python3.10/dist-packages (from nltk) (1.3.2)\n",
            "Requirement already satisfied: regex>=2021.8.3 in /usr/local/lib/python3.10/dist-packages (from nltk) (2023.6.3)\n",
            "Requirement already satisfied: tqdm in /usr/local/lib/python3.10/dist-packages (from nltk) (4.66.1)\n"
          ]
        }
      ],
      "source": [
        "pip install nltk"
      ]
    },
    {
      "cell_type": "code",
      "source": [
        "paragraph = \"\"\"\n",
        "Data science and data analysis are both important disciplines in the field of data management and analysis, but they differ in several key ways. While both fields involve working with data, data science is more of an interdisciplinary field that involves the application of statistical, computational, and machine learning methods to extract insights from data and make predictions, while data analysis is more focused on the examination and interpretation of data to identify patterns and trends.[37][38]\n",
        "\n",
        "Data analysis typically involves working with smaller, structured datasets to answer specific questions or solve specific problems. This can involve tasks such as data cleaning, data visualization, and exploratory data analysis to gain insights into the data and develop hypotheses about relationships between variables. Data analysts typically use statistical methods to test these hypotheses and draw conclusions from the data. For example, a data analyst might analyze sales data to identify trends in customer behavior and make recommendations for marketing strategies.[37]\n",
        "\n",
        "Data science, on the other hand, is a more complex and iterative process that involves working with larger, more complex datasets that often require advanced computational and statistical methods to analyze. Data scientists often work with unstructured data such as text or images and use machine learning algorithms to build predictive models and make data-driven decisions. In addition to statistical analysis, data science often involves tasks such as data preprocessing, feature engineering, and model selection. For instance, a data scientist might develop a recommendation system for an e-commerce platform by analyzing user behavior patterns and using machine learning algorithms to predict user preferences.[38][39]\n",
        "\n",
        "While data analysis focuses on extracting insights from existing data, data science goes beyond that by incorporating the development and implementation of predictive models to make informed decisions. Data scientists are often responsible for collecting and cleaning data, selecting appropriate analytical techniques, and deploying models in real-world scenarios. They work at the intersection of mathematics, computer science, and domain expertise to solve complex problems and uncover hidden patterns in large datasets\n",
        " \"\"\""
      ],
      "metadata": {
        "id": "lbG-3_vGwnwD"
      },
      "execution_count": 2,
      "outputs": []
    },
    {
      "cell_type": "code",
      "source": [
        "paragraph"
      ],
      "metadata": {
        "colab": {
          "base_uri": "https://localhost:8080/",
          "height": 143
        },
        "id": "kzv9UYbPxErd",
        "outputId": "649e2679-dbbc-4e5b-afea-7964fa2f24dc"
      },
      "execution_count": 3,
      "outputs": [
        {
          "output_type": "execute_result",
          "data": {
            "text/plain": [
              "'\\nData science and data analysis are both important disciplines in the field of data management and analysis, but they differ in several key ways. While both fields involve working with data, data science is more of an interdisciplinary field that involves the application of statistical, computational, and machine learning methods to extract insights from data and make predictions, while data analysis is more focused on the examination and interpretation of data to identify patterns and trends.[37][38]\\n\\nData analysis typically involves working with smaller, structured datasets to answer specific questions or solve specific problems. This can involve tasks such as data cleaning, data visualization, and exploratory data analysis to gain insights into the data and develop hypotheses about relationships between variables. Data analysts typically use statistical methods to test these hypotheses and draw conclusions from the data. For example, a data analyst might analyze sales data to identify trends in customer behavior and make recommendations for marketing strategies.[37]\\n\\nData science, on the other hand, is a more complex and iterative process that involves working with larger, more complex datasets that often require advanced computational and statistical methods to analyze. Data scientists often work with unstructured data such as text or images and use machine learning algorithms to build predictive models and make data-driven decisions. In addition to statistical analysis, data science often involves tasks such as data preprocessing, feature engineering, and model selection. For instance, a data scientist might develop a recommendation system for an e-commerce platform by analyzing user behavior patterns and using machine learning algorithms to predict user preferences.[38][39]\\n\\nWhile data analysis focuses on extracting insights from existing data, data science goes beyond that by incorporating the development and implementation of predictive models to make informed decisions. Data scientists are often responsible for collecting and cleaning data, selecting appropriate analytical techniques, and deploying models in real-world scenarios. They work at the intersection of mathematics, computer science, and domain expertise to solve complex problems and uncover hidden patterns in large datasets\\n '"
            ],
            "application/vnd.google.colaboratory.intrinsic+json": {
              "type": "string"
            }
          },
          "metadata": {},
          "execution_count": 3
        }
      ]
    },
    {
      "cell_type": "code",
      "source": [
        "import nltk\n",
        "from nltk.stem import PorterStemmer\n",
        "from nltk.corpus import stopwords"
      ],
      "metadata": {
        "id": "jnlaU8XHxF0S"
      },
      "execution_count": 4,
      "outputs": []
    },
    {
      "cell_type": "markdown",
      "source": [
        "Tokenization"
      ],
      "metadata": {
        "id": "edVwCnUCxu7u"
      }
    },
    {
      "cell_type": "code",
      "source": [
        "nltk.download('punkt')\n",
        "sentences = nltk.sent_tokenize(paragraph)\n"
      ],
      "metadata": {
        "colab": {
          "base_uri": "https://localhost:8080/"
        },
        "id": "hhOT4rndxgis",
        "outputId": "04c937fe-2554-4f79-d6f9-9d5795c7d366"
      },
      "execution_count": 5,
      "outputs": [
        {
          "output_type": "stream",
          "name": "stderr",
          "text": [
            "[nltk_data] Downloading package punkt to /root/nltk_data...\n",
            "[nltk_data]   Unzipping tokenizers/punkt.zip.\n"
          ]
        }
      ]
    },
    {
      "cell_type": "code",
      "source": [
        "print(sentences)"
      ],
      "metadata": {
        "colab": {
          "base_uri": "https://localhost:8080/"
        },
        "id": "KqBav8pWx80D",
        "outputId": "8008f5b1-b292-41dd-8263-e219789076d2"
      },
      "execution_count": 6,
      "outputs": [
        {
          "output_type": "stream",
          "name": "stdout",
          "text": [
            "['\\nData science and data analysis are both important disciplines in the field of data management and analysis, but they differ in several key ways.', 'While both fields involve working with data, data science is more of an interdisciplinary field that involves the application of statistical, computational, and machine learning methods to extract insights from data and make predictions, while data analysis is more focused on the examination and interpretation of data to identify patterns and trends.', '[37][38]\\n\\nData analysis typically involves working with smaller, structured datasets to answer specific questions or solve specific problems.', 'This can involve tasks such as data cleaning, data visualization, and exploratory data analysis to gain insights into the data and develop hypotheses about relationships between variables.', 'Data analysts typically use statistical methods to test these hypotheses and draw conclusions from the data.', 'For example, a data analyst might analyze sales data to identify trends in customer behavior and make recommendations for marketing strategies.', '[37]\\n\\nData science, on the other hand, is a more complex and iterative process that involves working with larger, more complex datasets that often require advanced computational and statistical methods to analyze.', 'Data scientists often work with unstructured data such as text or images and use machine learning algorithms to build predictive models and make data-driven decisions.', 'In addition to statistical analysis, data science often involves tasks such as data preprocessing, feature engineering, and model selection.', 'For instance, a data scientist might develop a recommendation system for an e-commerce platform by analyzing user behavior patterns and using machine learning algorithms to predict user preferences.', '[38][39]\\n\\nWhile data analysis focuses on extracting insights from existing data, data science goes beyond that by incorporating the development and implementation of predictive models to make informed decisions.', 'Data scientists are often responsible for collecting and cleaning data, selecting appropriate analytical techniques, and deploying models in real-world scenarios.', 'They work at the intersection of mathematics, computer science, and domain expertise to solve complex problems and uncover hidden patterns in large datasets']\n"
          ]
        }
      ]
    },
    {
      "cell_type": "code",
      "source": [
        "type(sentences)"
      ],
      "metadata": {
        "colab": {
          "base_uri": "https://localhost:8080/"
        },
        "id": "SZ--tuxmyEWP",
        "outputId": "65a508e6-62d9-4865-b7ac-fd4fa2e7dd15"
      },
      "execution_count": 7,
      "outputs": [
        {
          "output_type": "execute_result",
          "data": {
            "text/plain": [
              "list"
            ]
          },
          "metadata": {},
          "execution_count": 7
        }
      ]
    },
    {
      "cell_type": "markdown",
      "source": [
        "Stemming - Getting the based word from the main word"
      ],
      "metadata": {
        "id": "ZfNkWd9ByrM1"
      }
    },
    {
      "cell_type": "code",
      "source": [
        "stemmer = PorterStemmer()"
      ],
      "metadata": {
        "id": "J7s1sAyuyeUf"
      },
      "execution_count": 8,
      "outputs": []
    },
    {
      "cell_type": "code",
      "source": [
        "stemmer.stem('going')"
      ],
      "metadata": {
        "colab": {
          "base_uri": "https://localhost:8080/",
          "height": 35
        },
        "id": "x6Z-_ZLxyutD",
        "outputId": "1c5b6a3a-0e9f-4f5d-b0ae-bd1da81808d7"
      },
      "execution_count": 9,
      "outputs": [
        {
          "output_type": "execute_result",
          "data": {
            "text/plain": [
              "'go'"
            ],
            "application/vnd.google.colaboratory.intrinsic+json": {
              "type": "string"
            }
          },
          "metadata": {},
          "execution_count": 9
        }
      ]
    },
    {
      "cell_type": "code",
      "source": [
        "stemmer.stem('thinking')"
      ],
      "metadata": {
        "colab": {
          "base_uri": "https://localhost:8080/",
          "height": 35
        },
        "id": "Bh8ts6fAyyKf",
        "outputId": "43f17f5f-2ec1-4b95-f631-b2fb04df93a0"
      },
      "execution_count": 10,
      "outputs": [
        {
          "output_type": "execute_result",
          "data": {
            "text/plain": [
              "'think'"
            ],
            "application/vnd.google.colaboratory.intrinsic+json": {
              "type": "string"
            }
          },
          "metadata": {},
          "execution_count": 10
        }
      ]
    },
    {
      "cell_type": "code",
      "source": [
        "stemmer.stem('history')"
      ],
      "metadata": {
        "colab": {
          "base_uri": "https://localhost:8080/",
          "height": 35
        },
        "id": "nAqVORy802KU",
        "outputId": "41e93c3b-20b5-42c8-ce07-037173ab4a09"
      },
      "execution_count": 11,
      "outputs": [
        {
          "output_type": "execute_result",
          "data": {
            "text/plain": [
              "'histori'"
            ],
            "application/vnd.google.colaboratory.intrinsic+json": {
              "type": "string"
            }
          },
          "metadata": {},
          "execution_count": 11
        }
      ]
    },
    {
      "cell_type": "markdown",
      "source": [
        "Disadvantage in stemming is that everytime the output of words may not hold stable meaning\n",
        "\n",
        "To overcome this issue Lemmatization technique is used"
      ],
      "metadata": {
        "id": "Tc839bif05kB"
      }
    },
    {
      "cell_type": "markdown",
      "source": [
        "Lemmatization"
      ],
      "metadata": {
        "id": "hmsjFnTO0HNY"
      }
    },
    {
      "cell_type": "code",
      "source": [
        "from nltk.stem import WordNetLemmatizer"
      ],
      "metadata": {
        "id": "JiuS8KQry_uE"
      },
      "execution_count": 12,
      "outputs": []
    },
    {
      "cell_type": "code",
      "source": [
        "nltk.download('wordnet')\n",
        "lemmatizer = WordNetLemmatizer()"
      ],
      "metadata": {
        "colab": {
          "base_uri": "https://localhost:8080/"
        },
        "id": "hCCiZt8i0MtS",
        "outputId": "176cf430-9eae-445c-df3a-3ad34d85bc1a"
      },
      "execution_count": 13,
      "outputs": [
        {
          "output_type": "stream",
          "name": "stderr",
          "text": [
            "[nltk_data] Downloading package wordnet to /root/nltk_data...\n"
          ]
        }
      ]
    },
    {
      "cell_type": "code",
      "source": [
        "lemmatizer.lemmatize('history')"
      ],
      "metadata": {
        "colab": {
          "base_uri": "https://localhost:8080/",
          "height": 35
        },
        "id": "p31t83iK0ZDu",
        "outputId": "52ad0d1c-24d1-4dc7-e956-a7298e6ae00d"
      },
      "execution_count": 14,
      "outputs": [
        {
          "output_type": "execute_result",
          "data": {
            "text/plain": [
              "'history'"
            ],
            "application/vnd.google.colaboratory.intrinsic+json": {
              "type": "string"
            }
          },
          "metadata": {},
          "execution_count": 14
        }
      ]
    },
    {
      "cell_type": "markdown",
      "source": [
        "Cleaning the special characters"
      ],
      "metadata": {
        "id": "p_k85niX0Ep2"
      }
    },
    {
      "cell_type": "code",
      "source": [
        "import re # Regular Expressions"
      ],
      "metadata": {
        "id": "Dj60ROdD0viW"
      },
      "execution_count": 15,
      "outputs": []
    },
    {
      "cell_type": "code",
      "source": [
        "len(sentences)"
      ],
      "metadata": {
        "colab": {
          "base_uri": "https://localhost:8080/"
        },
        "id": "dxwmfb3s0Wbl",
        "outputId": "e60d26f6-2720-415f-d994-e587d300ace6"
      },
      "execution_count": 16,
      "outputs": [
        {
          "output_type": "execute_result",
          "data": {
            "text/plain": [
              "13"
            ]
          },
          "metadata": {},
          "execution_count": 16
        }
      ]
    },
    {
      "cell_type": "code",
      "source": [
        "corpus = [] # new corpus after cleaning\n",
        "for i in range(len(sentences)):\n",
        "  review = re.sub('[^a-zA-Z]',' ',sentences[i]) # replacing veerything other than a-z or A-Z with blank character\n",
        "  review = review.lower() #transforming it to lower case\n",
        "  corpus.append(review) #append into corpus"
      ],
      "metadata": {
        "id": "sgjrc-gK0L-P"
      },
      "execution_count": 18,
      "outputs": []
    },
    {
      "cell_type": "code",
      "source": [
        "corpus"
      ],
      "metadata": {
        "colab": {
          "base_uri": "https://localhost:8080/"
        },
        "id": "S6W9Fleb1YYK",
        "outputId": "4cc7b8a1-8ce0-4eef-cae4-a38ef496474d"
      },
      "execution_count": 19,
      "outputs": [
        {
          "output_type": "execute_result",
          "data": {
            "text/plain": [
              "[' data science and data analysis are both important disciplines in the field of data management and analysis  but they differ in several key ways ',\n",
              " 'while both fields involve working with data  data science is more of an interdisciplinary field that involves the application of statistical  computational  and machine learning methods to extract insights from data and make predictions  while data analysis is more focused on the examination and interpretation of data to identify patterns and trends ',\n",
              " '          data analysis typically involves working with smaller  structured datasets to answer specific questions or solve specific problems ',\n",
              " 'this can involve tasks such as data cleaning  data visualization  and exploratory data analysis to gain insights into the data and develop hypotheses about relationships between variables ',\n",
              " 'data analysts typically use statistical methods to test these hypotheses and draw conclusions from the data ',\n",
              " 'for example  a data analyst might analyze sales data to identify trends in customer behavior and make recommendations for marketing strategies ',\n",
              " '      data science  on the other hand  is a more complex and iterative process that involves working with larger  more complex datasets that often require advanced computational and statistical methods to analyze ',\n",
              " 'data scientists often work with unstructured data such as text or images and use machine learning algorithms to build predictive models and make data driven decisions ',\n",
              " 'in addition to statistical analysis  data science often involves tasks such as data preprocessing  feature engineering  and model selection ',\n",
              " 'for instance  a data scientist might develop a recommendation system for an e commerce platform by analyzing user behavior patterns and using machine learning algorithms to predict user preferences ',\n",
              " '          while data analysis focuses on extracting insights from existing data  data science goes beyond that by incorporating the development and implementation of predictive models to make informed decisions ',\n",
              " 'data scientists are often responsible for collecting and cleaning data  selecting appropriate analytical techniques  and deploying models in real world scenarios ',\n",
              " 'they work at the intersection of mathematics  computer science  and domain expertise to solve complex problems and uncover hidden patterns in large datasets']"
            ]
          },
          "metadata": {},
          "execution_count": 19
        }
      ]
    },
    {
      "cell_type": "markdown",
      "source": [
        "Checking the stopwords list"
      ],
      "metadata": {
        "id": "F_0OzUNB2aOo"
      }
    },
    {
      "cell_type": "code",
      "source": [
        "nltk.download('stopwords')\n",
        "stopwords.words('english')"
      ],
      "metadata": {
        "colab": {
          "base_uri": "https://localhost:8080/"
        },
        "id": "__KUoQte1fze",
        "outputId": "bbb07a95-dd58-4bb8-fdf7-96fa9782f2ba"
      },
      "execution_count": 21,
      "outputs": [
        {
          "output_type": "stream",
          "name": "stderr",
          "text": [
            "[nltk_data] Downloading package stopwords to /root/nltk_data...\n",
            "[nltk_data]   Unzipping corpora/stopwords.zip.\n"
          ]
        },
        {
          "output_type": "execute_result",
          "data": {
            "text/plain": [
              "['i',\n",
              " 'me',\n",
              " 'my',\n",
              " 'myself',\n",
              " 'we',\n",
              " 'our',\n",
              " 'ours',\n",
              " 'ourselves',\n",
              " 'you',\n",
              " \"you're\",\n",
              " \"you've\",\n",
              " \"you'll\",\n",
              " \"you'd\",\n",
              " 'your',\n",
              " 'yours',\n",
              " 'yourself',\n",
              " 'yourselves',\n",
              " 'he',\n",
              " 'him',\n",
              " 'his',\n",
              " 'himself',\n",
              " 'she',\n",
              " \"she's\",\n",
              " 'her',\n",
              " 'hers',\n",
              " 'herself',\n",
              " 'it',\n",
              " \"it's\",\n",
              " 'its',\n",
              " 'itself',\n",
              " 'they',\n",
              " 'them',\n",
              " 'their',\n",
              " 'theirs',\n",
              " 'themselves',\n",
              " 'what',\n",
              " 'which',\n",
              " 'who',\n",
              " 'whom',\n",
              " 'this',\n",
              " 'that',\n",
              " \"that'll\",\n",
              " 'these',\n",
              " 'those',\n",
              " 'am',\n",
              " 'is',\n",
              " 'are',\n",
              " 'was',\n",
              " 'were',\n",
              " 'be',\n",
              " 'been',\n",
              " 'being',\n",
              " 'have',\n",
              " 'has',\n",
              " 'had',\n",
              " 'having',\n",
              " 'do',\n",
              " 'does',\n",
              " 'did',\n",
              " 'doing',\n",
              " 'a',\n",
              " 'an',\n",
              " 'the',\n",
              " 'and',\n",
              " 'but',\n",
              " 'if',\n",
              " 'or',\n",
              " 'because',\n",
              " 'as',\n",
              " 'until',\n",
              " 'while',\n",
              " 'of',\n",
              " 'at',\n",
              " 'by',\n",
              " 'for',\n",
              " 'with',\n",
              " 'about',\n",
              " 'against',\n",
              " 'between',\n",
              " 'into',\n",
              " 'through',\n",
              " 'during',\n",
              " 'before',\n",
              " 'after',\n",
              " 'above',\n",
              " 'below',\n",
              " 'to',\n",
              " 'from',\n",
              " 'up',\n",
              " 'down',\n",
              " 'in',\n",
              " 'out',\n",
              " 'on',\n",
              " 'off',\n",
              " 'over',\n",
              " 'under',\n",
              " 'again',\n",
              " 'further',\n",
              " 'then',\n",
              " 'once',\n",
              " 'here',\n",
              " 'there',\n",
              " 'when',\n",
              " 'where',\n",
              " 'why',\n",
              " 'how',\n",
              " 'all',\n",
              " 'any',\n",
              " 'both',\n",
              " 'each',\n",
              " 'few',\n",
              " 'more',\n",
              " 'most',\n",
              " 'other',\n",
              " 'some',\n",
              " 'such',\n",
              " 'no',\n",
              " 'nor',\n",
              " 'not',\n",
              " 'only',\n",
              " 'own',\n",
              " 'same',\n",
              " 'so',\n",
              " 'than',\n",
              " 'too',\n",
              " 'very',\n",
              " 's',\n",
              " 't',\n",
              " 'can',\n",
              " 'will',\n",
              " 'just',\n",
              " 'don',\n",
              " \"don't\",\n",
              " 'should',\n",
              " \"should've\",\n",
              " 'now',\n",
              " 'd',\n",
              " 'll',\n",
              " 'm',\n",
              " 'o',\n",
              " 're',\n",
              " 've',\n",
              " 'y',\n",
              " 'ain',\n",
              " 'aren',\n",
              " \"aren't\",\n",
              " 'couldn',\n",
              " \"couldn't\",\n",
              " 'didn',\n",
              " \"didn't\",\n",
              " 'doesn',\n",
              " \"doesn't\",\n",
              " 'hadn',\n",
              " \"hadn't\",\n",
              " 'hasn',\n",
              " \"hasn't\",\n",
              " 'haven',\n",
              " \"haven't\",\n",
              " 'isn',\n",
              " \"isn't\",\n",
              " 'ma',\n",
              " 'mightn',\n",
              " \"mightn't\",\n",
              " 'mustn',\n",
              " \"mustn't\",\n",
              " 'needn',\n",
              " \"needn't\",\n",
              " 'shan',\n",
              " \"shan't\",\n",
              " 'shouldn',\n",
              " \"shouldn't\",\n",
              " 'wasn',\n",
              " \"wasn't\",\n",
              " 'weren',\n",
              " \"weren't\",\n",
              " 'won',\n",
              " \"won't\",\n",
              " 'wouldn',\n",
              " \"wouldn't\"]"
            ]
          },
          "metadata": {},
          "execution_count": 21
        }
      ]
    },
    {
      "cell_type": "markdown",
      "source": [
        "Applying Stemming for the whole paragraph"
      ],
      "metadata": {
        "id": "5m816L042hXs"
      }
    },
    {
      "cell_type": "code",
      "source": [
        "\n",
        "\n",
        "for i in corpus:\n",
        "  words = nltk.word_tokenize(i) #word_tokenize will convert sentence into words\n",
        "  for word in words:\n",
        "    if word not in set(stopwords.words('english')): #Whatever words are not present in the stopwords just apply stemming on that\n",
        "      print(stemmer.stem(word))"
      ],
      "metadata": {
        "colab": {
          "base_uri": "https://localhost:8080/"
        },
        "id": "DfSo-k3B2SOF",
        "outputId": "c4468aea-13cb-4e72-f6c0-86fc2108e038"
      },
      "execution_count": 25,
      "outputs": [
        {
          "output_type": "stream",
          "name": "stdout",
          "text": [
            "data\n",
            "scienc\n",
            "data\n",
            "analysi\n",
            "import\n",
            "disciplin\n",
            "field\n",
            "data\n",
            "manag\n",
            "analysi\n",
            "differ\n",
            "sever\n",
            "key\n",
            "way\n",
            "field\n",
            "involv\n",
            "work\n",
            "data\n",
            "data\n",
            "scienc\n",
            "interdisciplinari\n",
            "field\n",
            "involv\n",
            "applic\n",
            "statist\n",
            "comput\n",
            "machin\n",
            "learn\n",
            "method\n",
            "extract\n",
            "insight\n",
            "data\n",
            "make\n",
            "predict\n",
            "data\n",
            "analysi\n",
            "focus\n",
            "examin\n",
            "interpret\n",
            "data\n",
            "identifi\n",
            "pattern\n",
            "trend\n",
            "data\n",
            "analysi\n",
            "typic\n",
            "involv\n",
            "work\n",
            "smaller\n",
            "structur\n",
            "dataset\n",
            "answer\n",
            "specif\n",
            "question\n",
            "solv\n",
            "specif\n",
            "problem\n",
            "involv\n",
            "task\n",
            "data\n",
            "clean\n",
            "data\n",
            "visual\n",
            "exploratori\n",
            "data\n",
            "analysi\n",
            "gain\n",
            "insight\n",
            "data\n",
            "develop\n",
            "hypothes\n",
            "relationship\n",
            "variabl\n",
            "data\n",
            "analyst\n",
            "typic\n",
            "use\n",
            "statist\n",
            "method\n",
            "test\n",
            "hypothes\n",
            "draw\n",
            "conclus\n",
            "data\n",
            "exampl\n",
            "data\n",
            "analyst\n",
            "might\n",
            "analyz\n",
            "sale\n",
            "data\n",
            "identifi\n",
            "trend\n",
            "custom\n",
            "behavior\n",
            "make\n",
            "recommend\n",
            "market\n",
            "strategi\n",
            "data\n",
            "scienc\n",
            "hand\n",
            "complex\n",
            "iter\n",
            "process\n",
            "involv\n",
            "work\n",
            "larger\n",
            "complex\n",
            "dataset\n",
            "often\n",
            "requir\n",
            "advanc\n",
            "comput\n",
            "statist\n",
            "method\n",
            "analyz\n",
            "data\n",
            "scientist\n",
            "often\n",
            "work\n",
            "unstructur\n",
            "data\n",
            "text\n",
            "imag\n",
            "use\n",
            "machin\n",
            "learn\n",
            "algorithm\n",
            "build\n",
            "predict\n",
            "model\n",
            "make\n",
            "data\n",
            "driven\n",
            "decis\n",
            "addit\n",
            "statist\n",
            "analysi\n",
            "data\n",
            "scienc\n",
            "often\n",
            "involv\n",
            "task\n",
            "data\n",
            "preprocess\n",
            "featur\n",
            "engin\n",
            "model\n",
            "select\n",
            "instanc\n",
            "data\n",
            "scientist\n",
            "might\n",
            "develop\n",
            "recommend\n",
            "system\n",
            "e\n",
            "commerc\n",
            "platform\n",
            "analyz\n",
            "user\n",
            "behavior\n",
            "pattern\n",
            "use\n",
            "machin\n",
            "learn\n",
            "algorithm\n",
            "predict\n",
            "user\n",
            "prefer\n",
            "data\n",
            "analysi\n",
            "focus\n",
            "extract\n",
            "insight\n",
            "exist\n",
            "data\n",
            "data\n",
            "scienc\n",
            "goe\n",
            "beyond\n",
            "incorpor\n",
            "develop\n",
            "implement\n",
            "predict\n",
            "model\n",
            "make\n",
            "inform\n",
            "decis\n",
            "data\n",
            "scientist\n",
            "often\n",
            "respons\n",
            "collect\n",
            "clean\n",
            "data\n",
            "select\n",
            "appropri\n",
            "analyt\n",
            "techniqu\n",
            "deploy\n",
            "model\n",
            "real\n",
            "world\n",
            "scenario\n",
            "work\n",
            "intersect\n",
            "mathemat\n",
            "comput\n",
            "scienc\n",
            "domain\n",
            "expertis\n",
            "solv\n",
            "complex\n",
            "problem\n",
            "uncov\n",
            "hidden\n",
            "pattern\n",
            "larg\n",
            "dataset\n"
          ]
        }
      ]
    },
    {
      "cell_type": "markdown",
      "source": [
        "Applying Lemmatization"
      ],
      "metadata": {
        "id": "zExYtujn3YB1"
      }
    },
    {
      "cell_type": "code",
      "source": [
        "\n",
        "\n",
        "for i in corpus:\n",
        "  words = nltk.word_tokenize(i) #word_tokenize will convert sentence into words\n",
        "  for word in words:\n",
        "    if word not in set(stopwords.words('english')): #Whatever words are not present in the stopwords just apply lemmatization on that\n",
        "      print(lemmatizer.lemmatize(word))"
      ],
      "metadata": {
        "colab": {
          "base_uri": "https://localhost:8080/"
        },
        "id": "hTEPR4kN22de",
        "outputId": "409bfb5a-fbe6-4da3-df5c-4a42226773d1"
      },
      "execution_count": 26,
      "outputs": [
        {
          "output_type": "stream",
          "name": "stdout",
          "text": [
            "data\n",
            "science\n",
            "data\n",
            "analysis\n",
            "important\n",
            "discipline\n",
            "field\n",
            "data\n",
            "management\n",
            "analysis\n",
            "differ\n",
            "several\n",
            "key\n",
            "way\n",
            "field\n",
            "involve\n",
            "working\n",
            "data\n",
            "data\n",
            "science\n",
            "interdisciplinary\n",
            "field\n",
            "involves\n",
            "application\n",
            "statistical\n",
            "computational\n",
            "machine\n",
            "learning\n",
            "method\n",
            "extract\n",
            "insight\n",
            "data\n",
            "make\n",
            "prediction\n",
            "data\n",
            "analysis\n",
            "focused\n",
            "examination\n",
            "interpretation\n",
            "data\n",
            "identify\n",
            "pattern\n",
            "trend\n",
            "data\n",
            "analysis\n",
            "typically\n",
            "involves\n",
            "working\n",
            "smaller\n",
            "structured\n",
            "datasets\n",
            "answer\n",
            "specific\n",
            "question\n",
            "solve\n",
            "specific\n",
            "problem\n",
            "involve\n",
            "task\n",
            "data\n",
            "cleaning\n",
            "data\n",
            "visualization\n",
            "exploratory\n",
            "data\n",
            "analysis\n",
            "gain\n",
            "insight\n",
            "data\n",
            "develop\n",
            "hypothesis\n",
            "relationship\n",
            "variable\n",
            "data\n",
            "analyst\n",
            "typically\n",
            "use\n",
            "statistical\n",
            "method\n",
            "test\n",
            "hypothesis\n",
            "draw\n",
            "conclusion\n",
            "data\n",
            "example\n",
            "data\n",
            "analyst\n",
            "might\n",
            "analyze\n",
            "sale\n",
            "data\n",
            "identify\n",
            "trend\n",
            "customer\n",
            "behavior\n",
            "make\n",
            "recommendation\n",
            "marketing\n",
            "strategy\n",
            "data\n",
            "science\n",
            "hand\n",
            "complex\n",
            "iterative\n",
            "process\n",
            "involves\n",
            "working\n",
            "larger\n",
            "complex\n",
            "datasets\n",
            "often\n",
            "require\n",
            "advanced\n",
            "computational\n",
            "statistical\n",
            "method\n",
            "analyze\n",
            "data\n",
            "scientist\n",
            "often\n",
            "work\n",
            "unstructured\n",
            "data\n",
            "text\n",
            "image\n",
            "use\n",
            "machine\n",
            "learning\n",
            "algorithm\n",
            "build\n",
            "predictive\n",
            "model\n",
            "make\n",
            "data\n",
            "driven\n",
            "decision\n",
            "addition\n",
            "statistical\n",
            "analysis\n",
            "data\n",
            "science\n",
            "often\n",
            "involves\n",
            "task\n",
            "data\n",
            "preprocessing\n",
            "feature\n",
            "engineering\n",
            "model\n",
            "selection\n",
            "instance\n",
            "data\n",
            "scientist\n",
            "might\n",
            "develop\n",
            "recommendation\n",
            "system\n",
            "e\n",
            "commerce\n",
            "platform\n",
            "analyzing\n",
            "user\n",
            "behavior\n",
            "pattern\n",
            "using\n",
            "machine\n",
            "learning\n",
            "algorithm\n",
            "predict\n",
            "user\n",
            "preference\n",
            "data\n",
            "analysis\n",
            "focus\n",
            "extracting\n",
            "insight\n",
            "existing\n",
            "data\n",
            "data\n",
            "science\n",
            "go\n",
            "beyond\n",
            "incorporating\n",
            "development\n",
            "implementation\n",
            "predictive\n",
            "model\n",
            "make\n",
            "informed\n",
            "decision\n",
            "data\n",
            "scientist\n",
            "often\n",
            "responsible\n",
            "collecting\n",
            "cleaning\n",
            "data\n",
            "selecting\n",
            "appropriate\n",
            "analytical\n",
            "technique\n",
            "deploying\n",
            "model\n",
            "real\n",
            "world\n",
            "scenario\n",
            "work\n",
            "intersection\n",
            "mathematics\n",
            "computer\n",
            "science\n",
            "domain\n",
            "expertise\n",
            "solve\n",
            "complex\n",
            "problem\n",
            "uncover\n",
            "hidden\n",
            "pattern\n",
            "large\n",
            "datasets\n"
          ]
        }
      ]
    },
    {
      "cell_type": "markdown",
      "source": [
        "Executing Bag of words with a different example"
      ],
      "metadata": {
        "id": "TSIzXmChNI33"
      }
    },
    {
      "cell_type": "markdown",
      "source": [
        "Bag of Words"
      ],
      "metadata": {
        "id": "tANaTZ1k3tyE"
      }
    },
    {
      "cell_type": "code",
      "source": [
        "from sklearn.feature_extraction.text import CountVectorizer\n",
        "import pandas as pd\n",
        "\n",
        "# Create a list of sentences\n",
        "corpus_test = [\n",
        "    \"I love natural language processing.\",\n",
        "    \"NLP is fascinating, and I enjoy learning about it.\"\n",
        "]\n",
        "\n",
        "# Create a Bag of Words model\n",
        "#Create a CountVectorizer object, vectorizer, which will convert the text data into a Bag of Words representation.\n",
        "vectorizer = CountVectorizer()\n",
        "X = vectorizer.fit_transform(corpus_test) # Use the fit_transform method to transform the corpus into the Bag of Words representation (X).\n",
        "\n",
        "# Get the feature names (words)\n",
        "feature_names = vectorizer.get_feature_names_out() #Get the feature names (unique words) using get_feature_names_out() method.\n",
        "\n",
        "# Convert the BoW representation to a DataFrame for better visualization\n",
        "bow_df = pd.DataFrame(X.toarray(), columns=feature_names)\n",
        "print(bow_df)\n"
      ],
      "metadata": {
        "colab": {
          "base_uri": "https://localhost:8080/"
        },
        "id": "HObVLyiv3jVB",
        "outputId": "ce0e09a0-2761-4e44-cdbf-d0db44e0d055"
      },
      "execution_count": 28,
      "outputs": [
        {
          "output_type": "stream",
          "name": "stdout",
          "text": [
            "   about  and  enjoy  fascinating  is  it  language  learning  love  natural  \\\n",
            "0      0    0      0            0   0   0         1         0     1        1   \n",
            "1      1    1      1            1   1   1         0         1     0        0   \n",
            "\n",
            "   nlp  processing  \n",
            "0    0           1  \n",
            "1    1           0  \n"
          ]
        }
      ]
    },
    {
      "cell_type": "markdown",
      "source": [
        "TF-IDF = Term Freuquence - Inverse Document Frequency"
      ],
      "metadata": {
        "id": "DBhIAsptNjE8"
      }
    },
    {
      "cell_type": "code",
      "source": [
        "from sklearn.feature_extraction.text import TfidfVectorizer\n",
        "import pandas as pd\n",
        "\n",
        "# Create a list of sentences\n",
        "corpus_test = [\n",
        "    \"I love natural language processing.\",\n",
        "    \"NLP is fascinating, and I enjoy learning about it.\"\n",
        "]\n",
        "\n",
        "# Create a TF-IDF model\n",
        "tfidf_vectorizer = TfidfVectorizer() #Create a TfidfVectorizer object, tfidf_vectorizer, which will convert the text data into a TF-IDF representation.\n",
        "X_tfidf = tfidf_vectorizer.fit_transform(corpus_test) #Use the fit_transform method to transform the corpus into the TF-IDF representation (X_tfidf).\n",
        "\n",
        "# Convert the TF-IDF representation to a DataFrame for better visualization\n",
        "tfidf_df = pd.DataFrame(X_tfidf.toarray(), columns=tfidf_vectorizer.get_feature_names_out())\n",
        "print(tfidf_df)\n"
      ],
      "metadata": {
        "colab": {
          "base_uri": "https://localhost:8080/"
        },
        "id": "UzSoXOb4NF8C",
        "outputId": "a38396fe-2bf4-422d-d569-1ef72d940fd4"
      },
      "execution_count": 30,
      "outputs": [
        {
          "output_type": "stream",
          "name": "stdout",
          "text": [
            "      about       and     enjoy  fascinating        is        it  language  \\\n",
            "0  0.000000  0.000000  0.000000     0.000000  0.000000  0.000000       0.5   \n",
            "1  0.353553  0.353553  0.353553     0.353553  0.353553  0.353553       0.0   \n",
            "\n",
            "   learning  love  natural       nlp  processing  \n",
            "0  0.000000   0.5      0.5  0.000000         0.5  \n",
            "1  0.353553   0.0      0.0  0.353553         0.0  \n"
          ]
        }
      ]
    },
    {
      "cell_type": "code",
      "source": [],
      "metadata": {
        "id": "ItGfJcuRNrbc"
      },
      "execution_count": null,
      "outputs": []
    }
  ]
}