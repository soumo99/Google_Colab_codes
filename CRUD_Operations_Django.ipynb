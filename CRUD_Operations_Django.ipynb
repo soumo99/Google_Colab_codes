{
  "nbformat": 4,
  "nbformat_minor": 0,
  "metadata": {
    "colab": {
      "provenance": [],
      "authorship_tag": "ABX9TyPcO+bs0yiLoQyNzG85Nt68",
      "include_colab_link": true
    },
    "kernelspec": {
      "name": "python3",
      "display_name": "Python 3"
    },
    "language_info": {
      "name": "python"
    }
  },
  "cells": [
    {
      "cell_type": "markdown",
      "metadata": {
        "id": "view-in-github",
        "colab_type": "text"
      },
      "source": [
        "<a href=\"https://colab.research.google.com/github/soumo99/Google_Colab_codes/blob/main/CRUD_Operations_Django.ipynb\" target=\"_parent\"><img src=\"https://colab.research.google.com/assets/colab-badge.svg\" alt=\"Open In Colab\"/></a>"
      ]
    },
    {
      "cell_type": "markdown",
      "source": [
        "The \"Create\" operation involves adding new records to the database."
      ],
      "metadata": {
        "id": "3QZBNShf8xcZ"
      }
    },
    {
      "cell_type": "code",
      "execution_count": 1,
      "metadata": {
        "colab": {
          "base_uri": "https://localhost:8080/",
          "height": 375
        },
        "id": "CHJezCb88CMS",
        "outputId": "77bd45cb-a01e-4fde-fe0d-ac26eeec3df4"
      },
      "outputs": [
        {
          "output_type": "error",
          "ename": "ModuleNotFoundError",
          "evalue": "No module named 'myapp'",
          "traceback": [
            "\u001b[0;31m---------------------------------------------------------------------------\u001b[0m",
            "\u001b[0;31mModuleNotFoundError\u001b[0m                       Traceback (most recent call last)",
            "\u001b[0;32m<ipython-input-1-a26cb390a65c>\u001b[0m in \u001b[0;36m<cell line: 1>\u001b[0;34m()\u001b[0m\n\u001b[0;32m----> 1\u001b[0;31m \u001b[0;32mfrom\u001b[0m \u001b[0mmyapp\u001b[0m\u001b[0;34m.\u001b[0m\u001b[0mmodels\u001b[0m \u001b[0;32mimport\u001b[0m \u001b[0mProduct\u001b[0m\u001b[0;34m\u001b[0m\u001b[0;34m\u001b[0m\u001b[0m\n\u001b[0m\u001b[1;32m      2\u001b[0m \u001b[0;34m\u001b[0m\u001b[0m\n\u001b[1;32m      3\u001b[0m \u001b[0mnew_product\u001b[0m \u001b[0;34m=\u001b[0m \u001b[0mProduct\u001b[0m\u001b[0;34m(\u001b[0m\u001b[0mname\u001b[0m \u001b[0;34m=\u001b[0m \u001b[0;34m\"Mobile\"\u001b[0m\u001b[0;34m,\u001b[0m \u001b[0mprice\u001b[0m \u001b[0;34m=\u001b[0m \u001b[0;36m100\u001b[0m\u001b[0;34m)\u001b[0m\u001b[0;34m\u001b[0m\u001b[0;34m\u001b[0m\u001b[0m\n\u001b[1;32m      4\u001b[0m \u001b[0mnew_product\u001b[0m\u001b[0;34m.\u001b[0m\u001b[0msave\u001b[0m\u001b[0;34m(\u001b[0m\u001b[0;34m)\u001b[0m\u001b[0;34m\u001b[0m\u001b[0;34m\u001b[0m\u001b[0m\n",
            "\u001b[0;31mModuleNotFoundError\u001b[0m: No module named 'myapp'",
            "",
            "\u001b[0;31m---------------------------------------------------------------------------\u001b[0;32m\nNOTE: If your import is failing due to a missing package, you can\nmanually install dependencies using either !pip or !apt.\n\nTo view examples of installing some common dependencies, click the\n\"Open Examples\" button below.\n\u001b[0;31m---------------------------------------------------------------------------\u001b[0m\n"
          ],
          "errorDetails": {
            "actions": [
              {
                "action": "open_url",
                "actionText": "Open Examples",
                "url": "/notebooks/snippets/importing_libraries.ipynb"
              }
            ]
          }
        }
      ],
      "source": [
        "from myapp.models import Product\n",
        "\n",
        "new_product = Product(name = \"Mobile\", price = 100)\n",
        "new_product.save()"
      ]
    },
    {
      "cell_type": "markdown",
      "source": [
        "The \"Read\" operation involves retrieving records from the database."
      ],
      "metadata": {
        "id": "GG9snZ0A8549"
      }
    },
    {
      "cell_type": "code",
      "source": [
        "from myapp.models import Product\n",
        "# Retrieve a single product by its primary key (id)\n",
        "product = Product.objects.get()\n",
        "\n",
        "# Retrieve all products\n",
        "product = Product.objects.all()\n",
        "\n",
        "# Filter products by a certain condition\n",
        "product = PRoduct.objects.filter(price__lt=10)"
      ],
      "metadata": {
        "id": "cLs0a8_D81VD"
      },
      "execution_count": null,
      "outputs": []
    },
    {
      "cell_type": "markdown",
      "source": [
        "The \"Update\" operation involves modifying existing records in the database."
      ],
      "metadata": {
        "id": "7_H1j83r88_6"
      }
    },
    {
      "cell_type": "code",
      "source": [
        "from myapp.models import Product\n",
        "\n",
        "product = Product.objects.get(pk=1)\n",
        "\n",
        "#Update\n",
        "product.price = 200\n",
        "\n",
        "product.save()"
      ],
      "metadata": {
        "id": "NUEoTGJE8-yS"
      },
      "execution_count": null,
      "outputs": []
    },
    {
      "cell_type": "markdown",
      "source": [
        "The \"Delete\" operation involves removing records from the database."
      ],
      "metadata": {
        "id": "ZJhOHVsq9BwV"
      }
    },
    {
      "cell_type": "code",
      "source": [
        "from myapp.models import Product\n",
        "\n",
        "# Retrieve a product by its primary key and delete it\n",
        "\n",
        "product = Product.objects.get(pk=1)\n",
        "\n",
        "product.delete()\n",
        "\n",
        "# Delete multiple products based on a condition\n",
        "Product.objects.filter(price__lt=10).delete()"
      ],
      "metadata": {
        "id": "cPSYKbeX9Diw"
      },
      "execution_count": null,
      "outputs": []
    }
  ]
}