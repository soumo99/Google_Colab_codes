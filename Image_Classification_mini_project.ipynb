{
  "nbformat": 4,
  "nbformat_minor": 0,
  "metadata": {
    "colab": {
      "name": "Image_Classification_mini_project.ipynb",
      "private_outputs": true,
      "provenance": [],
      "collapsed_sections": [],
      "authorship_tag": "ABX9TyMUgFXRhLFPf+vdmoZjOw4d",
      "include_colab_link": true
    },
    "kernelspec": {
      "name": "python3",
      "display_name": "Python 3"
    },
    "language_info": {
      "name": "python"
    }
  },
  "cells": [
    {
      "cell_type": "markdown",
      "metadata": {
        "id": "view-in-github",
        "colab_type": "text"
      },
      "source": [
        "<a href=\"https://colab.research.google.com/github/soumo99/Google_Colab_codes/blob/main/Image_Classification_mini_project.ipynb\" target=\"_parent\"><img src=\"https://colab.research.google.com/assets/colab-badge.svg\" alt=\"Open In Colab\"/></a>"
      ]
    },
    {
      "cell_type": "code",
      "execution_count": null,
      "metadata": {
        "id": "-cmZB3dwBiKi"
      },
      "outputs": [],
      "source": [
        "#Importing the packages\n",
        "import tensorflow as tf\n",
        "from tensorflow import keras\n",
        "from keras.models import sequential\n",
        "from keras.layers import Dense, Flatten,Conv2D,MaxPooling2D,Dropout\n",
        "from tensorflow.keras import layers\n",
        "from tensorflow.keras.utils import to_categorical\n",
        "import numpy as np\n",
        "import matplotlib.pyplot as plt\n",
        "plt.style.use('fivethirtyeight')"
      ]
    },
    {
      "cell_type": "code",
      "source": [
        "#Load the data\n",
        "from keras.datasets import cifar10\n",
        "(x_train,y_train),(x_test,y_test) = cifar10.load_data()"
      ],
      "metadata": {
        "id": "6xEvRwvfDBh5"
      },
      "execution_count": null,
      "outputs": []
    },
    {
      "cell_type": "code",
      "source": [
        "#Look at the datatypes of the variables \n",
        "print(type(x_train))\n",
        "print(type(y_train))\n",
        "print(type(x_test))\n",
        "print(type(y_test))"
      ],
      "metadata": {
        "id": "sA7jmB9XDV70"
      },
      "execution_count": null,
      "outputs": []
    },
    {
      "cell_type": "markdown",
      "source": [
        "x_train. = 50000 rows of data with 32 by 32 images with depth 3 means rgb channels ||\n",
        "y_train = 50000 rows with 1 columns||\n",
        "x_test = 10000 rows of data with 32 by 32 images and 3 means depth rgb channels||\n",
        "y_test = 10000 rows with 1 columns\n",
        "\n"
      ],
      "metadata": {
        "id": "LJKYYq2HEYVz"
      }
    },
    {
      "cell_type": "code",
      "source": [
        "#Get the shape of the arrays\n",
        "print('x_train shape : ',x_train.shape)\n",
        "print('y_train shape : ',y_train.shape)\n",
        "print('x_test shape : ',x_test.shape)\n",
        "print('y_test shape : ',y_test.shape)"
      ],
      "metadata": {
        "id": "93qwiWRHDmW-"
      },
      "execution_count": null,
      "outputs": []
    },
    {
      "cell_type": "code",
      "source": [
        "#Take a look at the first image as an array\n",
        "\n",
        "index=0\n",
        "x_train[index]"
      ],
      "metadata": {
        "id": "WUGO8_uKFEBQ"
      },
      "execution_count": null,
      "outputs": []
    },
    {
      "cell_type": "code",
      "source": [
        "#show images as a picture\n",
        "\n",
        "img = plt.imshow(x_train[index])"
      ],
      "metadata": {
        "id": "yS7jJ8CBFUyE"
      },
      "execution_count": null,
      "outputs": []
    },
    {
      "cell_type": "code",
      "source": [
        "#Get the image label\n",
        "\n",
        "print('The image label is :',y_train[index])"
      ],
      "metadata": {
        "id": "dBm6sY0FFgxc"
      },
      "execution_count": null,
      "outputs": []
    },
    {
      "cell_type": "code",
      "source": [
        "#Get the image classification\n",
        "\n",
        "classification = ['airplanes','automobile','bird','cat','deer','dog','frog','horse','ship','truck']\n",
        "\n",
        "#Printing the image class\n",
        "print('The image class is : ',classification[y_train[index][0]])"
      ],
      "metadata": {
        "id": "iPfBrr8XFs2r"
      },
      "execution_count": null,
      "outputs": []
    },
    {
      "cell_type": "code",
      "source": [
        "index=10\n",
        "x_train[index]"
      ],
      "metadata": {
        "id": "qDmCyIGzGuQF"
      },
      "execution_count": null,
      "outputs": []
    },
    {
      "cell_type": "code",
      "source": [
        "img = plt.imshow(x_train[index])"
      ],
      "metadata": {
        "id": "uN8sg1_GG2UH"
      },
      "execution_count": null,
      "outputs": []
    },
    {
      "cell_type": "code",
      "source": [
        "print('The image label is :',y_train[index])"
      ],
      "metadata": {
        "id": "Uqw70x2BG9yR"
      },
      "execution_count": null,
      "outputs": []
    },
    {
      "cell_type": "code",
      "source": [
        "classification = ['airplanes','automobile','bird','cat','deer','dog','frog','horse','ship','truck']\n",
        "\n",
        "#Printing the image class\n",
        "print('The image class is : ',classification[y_train[index][0]])"
      ],
      "metadata": {
        "id": "nMGlirwQHHjL"
      },
      "execution_count": null,
      "outputs": []
    },
    {
      "cell_type": "code",
      "source": [
        "#convert labels into a set of 10 numbers to input into the neural network\n",
        "\n",
        "y_train_one_hot = to_categorical(y_train)\n",
        "y_test_one_hot = to_categorical(y_test)"
      ],
      "metadata": {
        "id": "70UDokHBHSJM"
      },
      "execution_count": null,
      "outputs": []
    },
    {
      "cell_type": "markdown",
      "source": [
        "All the columns were 0 except the one column that will be corresponding to the label"
      ],
      "metadata": {
        "id": "bgkCs8yEJYRl"
      }
    },
    {
      "cell_type": "code",
      "source": [
        "#Print the new labels\n",
        "\n",
        "print(y_train_one_hot)"
      ],
      "metadata": {
        "id": "ZI54XAugHkVC"
      },
      "execution_count": null,
      "outputs": []
    },
    {
      "cell_type": "markdown",
      "source": [
        "This set of 10 numbers corresponds to that label 4 "
      ],
      "metadata": {
        "id": "ut8l6wZeJ97w"
      }
    },
    {
      "cell_type": "code",
      "source": [
        "#print the new label of the image/picture above\n",
        "\n",
        "print('The one hot label is :',y_train_one_hot[index])"
      ],
      "metadata": {
        "id": "0_Rn7mfqJoLL"
      },
      "execution_count": null,
      "outputs": []
    },
    {
      "cell_type": "code",
      "source": [
        "#Normalize the pixels to be values between 0 and 1\n",
        "\n",
        "x_train = x_train / 255\n",
        "x_test = x_test / 255"
      ],
      "metadata": {
        "id": "tWR5c54AKSGA"
      },
      "execution_count": null,
      "outputs": []
    },
    {
      "cell_type": "code",
      "source": [
        "x_train[index]"
      ],
      "metadata": {
        "id": "WtnXT2EYKkj6"
      },
      "execution_count": null,
      "outputs": []
    },
    {
      "cell_type": "code",
      "source": [
        "#create the model architecture\n",
        "from keras.models import Sequential\n",
        "\n",
        "model = Sequential()\n",
        "\n",
        "#add the first layer \n",
        "model.add(Conv2D(32,(5,5),activation='relu',input_shape=(32,32,3)))\n",
        "\n",
        "#creating another layer , Add a pooling layer\n",
        "\n",
        "model.add(MaxPooling2D(pool_size = (2,2)))\n",
        "\n",
        "#Add another layer , Adding a convolution layer\n",
        "model.add(Conv2D(32,(5,5),activation='relu',))\n",
        "\n",
        "#creating another layer , Add a pooling layer\n",
        "\n",
        "model.add(MaxPooling2D(pool_size = (2,2)))\n",
        "\n",
        "#Add a flattening layer\n",
        "model.add(Flatten())\n",
        "\n",
        "#Adding a layer with 1000 neurons\n",
        "\n",
        "model.add(Dense(1000,activation='relu'))\n",
        "\n",
        "#Adding a dropout layer with 50% dropout rate\n",
        "model.add(Dropout(0.5))\n",
        "\n",
        "#Adding a layer with 500 neurons\n",
        "\n",
        "model.add(Dense(500,activation='relu'))\n",
        "\n",
        "#Adding a dropout layer with 50% dropout rate\n",
        "model.add(Dropout(0.5))\n",
        "\n",
        "#Adding a layer with 250 neurons\n",
        "\n",
        "model.add(Dense(250,activation='relu'))\n",
        "\n",
        "#Adding a layer with 10 neurons\n",
        "\n",
        "model.add(Dense(10,activation='softmax'))\n",
        "\n"
      ],
      "metadata": {
        "id": "J76upbRvKolu"
      },
      "execution_count": null,
      "outputs": []
    },
    {
      "cell_type": "code",
      "source": [
        "#Compile the model\n",
        "\n",
        "model.compile(loss = 'categorical_crossentropy',\n",
        "              optimizer = 'adam',\n",
        "              metrics = ['accuracy'])"
      ],
      "metadata": {
        "id": "65_q_pTRNrih"
      },
      "execution_count": null,
      "outputs": []
    },
    {
      "cell_type": "code",
      "source": [
        "#Train the model\n",
        "\n",
        "hist = model.fit(x_train,y_train_one_hot,\n",
        "                 batch_size = 256,\n",
        "                 epochs=10,\n",
        "                 validation_split = 0.2)"
      ],
      "metadata": {
        "id": "AspVYBKVN-du"
      },
      "execution_count": null,
      "outputs": []
    },
    {
      "cell_type": "code",
      "source": [
        "#Evaluate the model using the test data set\n",
        "\n",
        "model.evaluate(x_test,y_test_one_hot)[1]"
      ],
      "metadata": {
        "id": "azU9UYezQbYS"
      },
      "execution_count": null,
      "outputs": []
    },
    {
      "cell_type": "code",
      "source": [
        "#visualize the models accuracy\n",
        "plt.plot(hist.history['accuracy'])\n",
        "plt.plot(hist.history['val_accuracy'])\n",
        "plt.title('Model_Accuracy')\n",
        "plt.ylabel('Accuracy')\n",
        "plt.xlabel('Epoch')\n",
        "plt.legend(['Train','Val'],loc='upper left')\n",
        "plt.show()"
      ],
      "metadata": {
        "id": "5DAPRULyQvZ9"
      },
      "execution_count": null,
      "outputs": []
    },
    {
      "cell_type": "code",
      "source": [
        "#Visualize the models loss\n",
        "plt.plot(hist.history['loss'])\n",
        "plt.plot(hist.history['val_loss'])\n",
        "plt.title('Model_Loss')\n",
        "plt.ylabel('Loss')\n",
        "plt.xlabel('Epoch')\n",
        "plt.legend(['Train','Val'],loc='upper right')\n",
        "plt.show()"
      ],
      "metadata": {
        "id": "fzstwcifRgQm"
      },
      "execution_count": null,
      "outputs": []
    },
    {
      "cell_type": "code",
      "source": [
        "#Test the mdoel with an example\n",
        "\n",
        "from google.colab import files\n",
        "\n",
        "uploaded = files.upload()"
      ],
      "metadata": {
        "id": "929itLlvR_g8"
      },
      "execution_count": null,
      "outputs": []
    },
    {
      "cell_type": "code",
      "source": [
        "#show the image\n",
        "new_images = plt.imread('cat.jpeg')\n",
        "img = plt.imshow(new_images)"
      ],
      "metadata": {
        "id": "wdKoXYI8SiNd"
      },
      "execution_count": null,
      "outputs": []
    },
    {
      "cell_type": "code",
      "source": [
        "#Resize the image\n",
        "from skimage.transform import resize\n",
        "resized_image = resize(new_images,(32,32,3))\n",
        "img = plt.imshow(resized_image)"
      ],
      "metadata": {
        "id": "cmjZCuOtS2up"
      },
      "execution_count": null,
      "outputs": []
    },
    {
      "cell_type": "code",
      "source": [
        "#Get the models predictions\n",
        "predictions = model.predict(np.array([resized_image]))\n",
        "#show the predictions\n",
        "predictions"
      ],
      "metadata": {
        "id": "r_EIjxz_TVIF"
      },
      "execution_count": null,
      "outputs": []
    },
    {
      "cell_type": "code",
      "source": [
        "#sort the predictions from least to greatest\n",
        "\n",
        "list_index = [0,1,2,3,4,5,6,7,8,9]\n",
        "x = predictions\n",
        "\n",
        "for i in range(10):\n",
        "  for j in range(10):\n",
        "    if x[0][list_index[i]] > x[0][list_index[j]]:\n",
        "      temp = list_index[i]\n",
        "      list_index[i] = list_index[j]\n",
        "      list_index[j] = temp\n",
        "\n",
        "\n",
        "#show the sorted labels in order\n",
        "print(list_index)\n"
      ],
      "metadata": {
        "id": "fpI4z-iRT3xp"
      },
      "execution_count": null,
      "outputs": []
    },
    {
      "cell_type": "code",
      "source": [
        "#print the first five predictions\n",
        "\n",
        "for i in range(5):\n",
        "  print(classification[list_index[i]], ':' , round(predictions[0][list_index[i]] * 100), '%')"
      ],
      "metadata": {
        "id": "0SBLjOGqU30U"
      },
      "execution_count": null,
      "outputs": []
    }
  ]
}